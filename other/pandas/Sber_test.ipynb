{
  "cells": [
    {
      "cell_type": "markdown",
      "metadata": {
        "id": "oGu1n5SYEFxj"
      },
      "source": [
        "# Задание по Python\n",
        "\n",
        "У вас есть фрейм, содержащий информацию о продажах в магазине. Фрейм имеет следующие столбцы:\n",
        "- date - дата заказа\n",
        "- customer_id - идентификатор клиента\n",
        "- product_id - идентификатор товара\n",
        "- quantity - количество товара, заказанного в рамках заказа\n",
        "- price - цена товара"
      ]
    },
    {
      "cell_type": "code",
      "execution_count": 1,
      "metadata": {
        "id": "9Eel2oujEMBk"
      },
      "outputs": [],
      "source": [
        "import pandas as pd\n",
        "data = {\n",
        "'date': pd.date_range(start='2019-01-01', periods=12,\n",
        "freq='100D').to_series().sample(frac=1).to_list(),\n",
        "'customer_id': [101, 102, 103, 101, 102, 104, 105, 103, 101, 102, 106, 107],\n",
        "'product_id': [1, 2, 3, 2, 3, 1, 2, 1, 3, 3, 1, 2],\n",
        "'quantity': [3, 1, 2, 1, 3, 2, 2, 3, 1, 2, 1, 3],\n",
        "'price': [10.5, 15.2, 8.7, 13.4, 9.1, 11.8, 12.5, 7.2, 16.6, 8.9, 10.2, 14.1],\n",
        "}\n",
        "df = pd.DataFrame(data)"
      ]
    },
    {
      "cell_type": "markdown",
      "metadata": {
        "id": "-jYn4vPAEcTD"
      },
      "source": [
        "1. Напишите код для вычисления общей выручки магазина за каждый год, представленный в данных.\n",
        "2. Напишите код для вычисления количества уникальных клиентов, которые сделали заказы в каждом\n",
        "году.\n",
        "3. Напишите код для вычисления общего количества товаров, проданных в каждом году.\n",
        "4. Напишите код для вычисления средней стоимости заказа каждого клиента за каждый год.\n",
        "5. Напишите код для вычисления общей выручки магазина за каждый месяц.\n",
        "6. Напишите код для вычисления общей выручки магазина за каждый месяц для каждого отдельного продукта."
      ]
    },
    {
      "cell_type": "code",
      "execution_count": 2,
      "metadata": {
        "colab": {
          "base_uri": "https://localhost:8080/"
        },
        "id": "24SXs5WME3c_",
        "outputId": "a077e54d-7fd7-4de1-bda2-e6a698c422d8"
      },
      "outputs": [
        {
          "name": "stdout",
          "output_type": "stream",
          "text": [
            "         date  customer_id  product_id  quantity  price\n",
            "0  2021-06-19          101           1         3   10.5\n",
            "1  2020-05-15          102           2         1   15.2\n",
            "2  2020-02-05          103           3         2    8.7\n",
            "3  2019-04-11          101           2         1   13.4\n",
            "4  2019-01-01          102           3         3    9.1\n",
            "5  2021-03-11          104           1         2   11.8\n",
            "6  2019-07-20          105           2         2   12.5\n",
            "7  2020-12-01          103           1         3    7.2\n",
            "8  2020-08-23          101           3         1   16.6\n",
            "9  2022-01-05          102           3         2    8.9\n",
            "10 2019-10-28          106           1         1   10.2\n",
            "11 2021-09-27          107           2         3   14.1\n"
          ]
        }
      ],
      "source": [
        "print(df)"
      ]
    },
    {
      "cell_type": "code",
      "execution_count": 3,
      "metadata": {
        "id": "GbnRx2Fs_l8A"
      },
      "outputs": [],
      "source": [
        "df['year'] = df.date.apply(lambda x: str(x).split('-')[0])\n",
        "df['month'] = df.date.apply(lambda x: str(x).split('-')[1])\n",
        "df['revenue'] = df['price'] * df['quantity']"
      ]
    },
    {
      "cell_type": "markdown",
      "metadata": {
        "id": "E4L36fNaEwUs"
      },
      "source": [
        "## Общая выручка магазина за каждый год:\n",
        "```\n",
        "SELECT EXTRACT(YEAR  FROM  date) AS year, SUM(quantity * price) AS revenue\n",
        "FROM shop\n",
        "GROUP BY 1\n",
        "ORDER BY 1;\n",
        "```"
      ]
    },
    {
      "cell_type": "code",
      "execution_count": 4,
      "metadata": {
        "colab": {
          "base_uri": "https://localhost:8080/"
        },
        "id": "H4MfXgCR8xrQ",
        "outputId": "6fed2a60-2783-4235-b1aa-89fc878870a7"
      },
      "outputs": [
        {
          "name": "stdout",
          "output_type": "stream",
          "text": [
            "Общая выручка:\n",
            " year\n",
            "2019    75.9\n",
            "2020    70.8\n",
            "2021    97.4\n",
            "2022    17.8\n",
            "Name: revenue, dtype: float64\n"
          ]
        }
      ],
      "source": [
        "print('Общая выручка:\\n', df.groupby('year').sum('revenue')['revenue'])"
      ]
    },
    {
      "cell_type": "markdown",
      "metadata": {
        "id": "36bmP5SjxSgj"
      },
      "source": [
        "## Количество уникальных клиентов, которые сделали заказы в каждом году.\n",
        "```\n",
        "SELECT EXTRACT(YEAR  FROM  date) AS year, COUNT(DISTINCT  customer_id) AS customer\n",
        "FROM shop\n",
        "GROUP BY 1\n",
        "ORDER BY 1;\n",
        "```"
      ]
    },
    {
      "cell_type": "code",
      "execution_count": 5,
      "metadata": {
        "colab": {
          "base_uri": "https://localhost:8080/"
        },
        "id": "E29TSkAzGoqB",
        "outputId": "34bee926-ac05-4ebb-d77a-d6b460f3515d"
      },
      "outputs": [
        {
          "name": "stdout",
          "output_type": "stream",
          "text": [
            "Уникальные:\n",
            " year\n",
            "2019    4\n",
            "2020    3\n",
            "2021    3\n",
            "2022    1\n",
            "Name: customer_id, dtype: int64\n"
          ]
        }
      ],
      "source": [
        "print('Уникальные:\\n', df.groupby('year')['customer_id'].nunique())"
      ]
    },
    {
      "cell_type": "markdown",
      "metadata": {
        "id": "9KdoICj1xwAc"
      },
      "source": [
        "## Общее количество товаров, проданных в каждом году.\n",
        "```\n",
        "SELECT EXTRACT(YEAR  FROM  date) AS year, SUM(quantity) AS goods\n",
        "FROM shop\n",
        "GROUP BY 1\n",
        "ORDER BY 1;\n",
        "```"
      ]
    },
    {
      "cell_type": "code",
      "execution_count": null,
      "metadata": {
        "colab": {
          "base_uri": "https://localhost:8080/"
        },
        "id": "awH_4tiKAErt",
        "outputId": "335d4bfa-de8e-4be5-8e2e-36d697b35aac"
      },
      "outputs": [
        {
          "name": "stdout",
          "output_type": "stream",
          "text": [
            "общего количества товаров, проданных в каждом году\n",
            " year\n",
            "2019    10\n",
            "2020     7\n",
            "2021     5\n",
            "2022     2\n",
            "Name: quantity, dtype: int64\n"
          ]
        }
      ],
      "source": [
        "print('Количество товаров\\n', df.groupby('year').sum('quantity')['quantity'])"
      ]
    },
    {
      "cell_type": "markdown",
      "metadata": {
        "id": "t2aB4QzwySMv"
      },
      "source": [
        "## Средняя стоимость заказа каждого клиента за каждый год.\n",
        "```\n",
        "SELECT EXTRACT(YEAR  FROM  date) AS year, customer_id, AVG(quantity * price) AS average_order\n",
        "FROM shop\n",
        "GROUP BY 1, 2\n",
        "ORDER BY 1;\n",
        "```"
      ]
    },
    {
      "cell_type": "code",
      "execution_count": null,
      "metadata": {
        "colab": {
          "base_uri": "https://localhost:8080/"
        },
        "id": "F_iJ8JWnLvAa",
        "outputId": "19a11768-cc90-41cb-c726-9aca56319303"
      },
      "outputs": [
        {
          "name": "stdout",
          "output_type": "stream",
          "text": [
            "Средняя стоимость заказа\n",
            " year  customer_id\n",
            "2019  101            31.5\n",
            "      105            25.0\n",
            "      106            10.2\n",
            "      107            42.3\n",
            "2020  101            13.4\n",
            "      102            16.5\n",
            "      103            17.4\n",
            "2021  102            27.3\n",
            "      103            21.6\n",
            "      104            23.6\n",
            "2022  101            16.6\n",
            "Name: revenue, dtype: float64\n"
          ]
        }
      ],
      "source": [
        "print('Средняя стоимость заказа\\n', df.groupby(['year', 'customer_id']).mean('revenue')['revenue'])"
      ]
    },
    {
      "cell_type": "markdown",
      "metadata": {
        "id": "nSiLtwaxyiuR"
      },
      "source": [
        "## Общая выручка магазина за каждый месяц.\n",
        "```\n",
        "SELECT EXTRACT(MONTHS  FROM  date) AS month, SUM(quantity * price) AS revenue\n",
        "FROM shop\n",
        "GROUP BY 1\n",
        "ORDER BY 1;\n",
        "```"
      ]
    },
    {
      "cell_type": "code",
      "execution_count": null,
      "metadata": {
        "colab": {
          "base_uri": "https://localhost:8080/"
        },
        "id": "uomJFHJbL07J",
        "outputId": "c626eb01-bd3f-4bbe-a504-d4cfba5be521"
      },
      "outputs": [
        {
          "name": "stdout",
          "output_type": "stream",
          "text": [
            "Общая выручка магазина за каждый месяц\n",
            " month\n",
            "01    41.6\n",
            "02    15.2\n",
            "03    21.6\n",
            "04    42.3\n",
            "05    17.4\n",
            "06    23.6\n",
            "07    10.2\n",
            "08    13.4\n",
            "09    27.3\n",
            "10    31.5\n",
            "12    17.8\n",
            "Name: revenue, dtype: float64\n"
          ]
        }
      ],
      "source": [
        "print('Общая выручка магазина за каждый месяц\\n', df.groupby('month').sum('revenue')['revenue'])"
      ]
    },
    {
      "cell_type": "markdown",
      "metadata": {
        "id": "AYuS_TgIyqDC"
      },
      "source": [
        "## Общая выручка магазина за каждый месяц для каждого отдельного продукта.\n",
        "```\n",
        "SELECT EXTRACT(MONTHS  FROM  date) AS month, product_id, SUM(quantity * price) AS revenue\n",
        "FROM shop\n",
        "GROUP BY 1, 2\n",
        "ORDER BY 1;\n",
        "```"
      ]
    },
    {
      "cell_type": "code",
      "execution_count": null,
      "metadata": {
        "colab": {
          "base_uri": "https://localhost:8080/"
        },
        "id": "OX4IgpxlA51V",
        "outputId": "31e5376f-30cc-4afe-f452-a381a443cc14"
      },
      "outputs": [
        {
          "name": "stdout",
          "output_type": "stream",
          "text": [
            "Общая выручка магазина за каждый месяц для каждого отдельного продукта\n",
            " month  product_id\n",
            "01     2             25.0\n",
            "       3             16.6\n",
            "02     2             15.2\n",
            "03     1             21.6\n",
            "04     2             42.3\n",
            "05     3             17.4\n",
            "06     1             23.6\n",
            "07     1             10.2\n",
            "08     2             13.4\n",
            "09     3             27.3\n",
            "10     1             31.5\n",
            "12     3             17.8\n",
            "Name: revenue, dtype: float64\n"
          ]
        }
      ],
      "source": [
        "print('Общая выручка магазина за каждый месяц для каждого отдельного продукта\\n', df.groupby(['month', 'product_id']).sum('revenue')['revenue'])"
      ]
    },
    {
      "cell_type": "markdown",
      "metadata": {
        "id": "O2fgc0xPzJIt"
      },
      "source": [
        "# Задание по SQL\n",
        "\n",
        "У вас есть две таблицы: `orders` и `order_items`. Таблица `orders` содержит информацию о заказах, а таблица `order_items` содержит информацию о товарах, которые были заказаны в рамках этих заказов. Обе таблицы\n",
        "имеют следующие столбцы:\n",
        "\n",
        "Таблица `orders`:\n",
        "- order_id - уникальный идентификатор заказа\n",
        "- customer_id - идентификатор клиента\n",
        "- date - дата заказа\n",
        "\n",
        "Таблица `order_items`:\n",
        "- order_id - идентификатор заказа\n",
        "- product_id - идентификатор товара\n",
        "- quantity - количество товара, заказанного в рамках заказа\n",
        "\n",
        "1. Напишите SQL-запрос, который выбирает количество товаров, заказанных каждым клиентом в\n",
        "текущем году.\n",
        "2. Напишите SQL-запрос, который выбирает идентификаторы всех клиентов, которые не сделали ни\n",
        "одного заказа в текущем году."
      ]
    },
    {
      "cell_type": "markdown",
      "metadata": {
        "id": "AIsriOev-_Jj"
      },
      "source": [
        "```\n",
        "SELECT o.customer_id, SUM(oi.quantity) AS total_quantity\n",
        "FROM orders o\n",
        "JOIN order_items oi ON o.order_id = oi.order_id\n",
        "WHERE YEAR(o.date) = YEAR(CURRENT_DATE)\n",
        "GROUP BY o.customer_id;\n",
        "```"
      ]
    },
    {
      "cell_type": "markdown",
      "metadata": {
        "id": "QoOK5Lzz_Jcz"
      },
      "source": [
        "```\n",
        "SELECT customer_id\n",
        "FROM customers\n",
        "WHERE customer_id NOT IN (\n",
        "    SELECT DISTINCT customer_id\n",
        "    FROM orders\n",
        "    WHERE date BETWEEN '2023-01-01' AND  '2023-12-31'\n",
        ");\n",
        "```"
      ]
    }
  ],
  "metadata": {
    "colab": {
      "provenance": []
    },
    "interpreter": {
      "hash": "67743c192fb6f3341fe682433b041a2f35832bb010baf0fcd03398cac0181c3b"
    },
    "kernelspec": {
      "display_name": "Python 3.10.2 ('venv': venv)",
      "language": "python",
      "name": "python3"
    },
    "language_info": {
      "codemirror_mode": {
        "name": "ipython",
        "version": 3
      },
      "file_extension": ".py",
      "mimetype": "text/x-python",
      "name": "python",
      "nbconvert_exporter": "python",
      "pygments_lexer": "ipython3",
      "version": "3.10.2"
    }
  },
  "nbformat": 4,
  "nbformat_minor": 0
}
